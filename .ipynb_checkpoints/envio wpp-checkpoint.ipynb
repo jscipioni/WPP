{
 "cells": [
  {
   "cell_type": "code",
   "execution_count": 1,
   "id": "18e2c4ba",
   "metadata": {},
   "outputs": [
    {
     "name": "stdout",
     "output_type": "stream",
     "text": [
      "Requirement already satisfied: pywhatkit in c:\\users\\julia.scipioni\\anaconda3\\lib\\site-packages (5.4)\n",
      "Requirement already satisfied: pyautogui in c:\\users\\julia.scipioni\\anaconda3\\lib\\site-packages (from pywhatkit) (0.9.53)\n",
      "Requirement already satisfied: Flask in c:\\users\\julia.scipioni\\anaconda3\\lib\\site-packages (from pywhatkit) (1.1.2)\n",
      "Requirement already satisfied: wikipedia in c:\\users\\julia.scipioni\\anaconda3\\lib\\site-packages (from pywhatkit) (1.4.0)\n",
      "Requirement already satisfied: Pillow in c:\\users\\julia.scipioni\\anaconda3\\lib\\site-packages (from pywhatkit) (9.2.0)\n",
      "Requirement already satisfied: requests in c:\\users\\julia.scipioni\\anaconda3\\lib\\site-packages (from pywhatkit) (2.28.1)\n",
      "Requirement already satisfied: itsdangerous>=0.24 in c:\\users\\julia.scipioni\\anaconda3\\lib\\site-packages (from Flask->pywhatkit) (2.0.1)\n",
      "Requirement already satisfied: Jinja2>=2.10.1 in c:\\users\\julia.scipioni\\anaconda3\\lib\\site-packages (from Flask->pywhatkit) (2.11.3)\n",
      "Requirement already satisfied: click>=5.1 in c:\\users\\julia.scipioni\\anaconda3\\lib\\site-packages (from Flask->pywhatkit) (8.0.4)\n",
      "Requirement already satisfied: Werkzeug>=0.15 in c:\\users\\julia.scipioni\\anaconda3\\lib\\site-packages (from Flask->pywhatkit) (2.0.3)\n",
      "Requirement already satisfied: PyTweening>=1.0.1 in c:\\users\\julia.scipioni\\anaconda3\\lib\\site-packages (from pyautogui->pywhatkit) (1.0.4)\n",
      "Requirement already satisfied: pyscreeze>=0.1.21 in c:\\users\\julia.scipioni\\anaconda3\\lib\\site-packages (from pyautogui->pywhatkit) (0.1.28)\n",
      "Requirement already satisfied: pygetwindow>=0.0.5 in c:\\users\\julia.scipioni\\anaconda3\\lib\\site-packages (from pyautogui->pywhatkit) (0.0.9)\n",
      "Requirement already satisfied: mouseinfo in c:\\users\\julia.scipioni\\anaconda3\\lib\\site-packages (from pyautogui->pywhatkit) (0.1.3)\n",
      "Requirement already satisfied: pymsgbox in c:\\users\\julia.scipioni\\anaconda3\\lib\\site-packages (from pyautogui->pywhatkit) (1.0.9)\n",
      "Requirement already satisfied: charset-normalizer<3,>=2 in c:\\users\\julia.scipioni\\anaconda3\\lib\\site-packages (from requests->pywhatkit) (2.0.4)\n",
      "Requirement already satisfied: urllib3<1.27,>=1.21.1 in c:\\users\\julia.scipioni\\anaconda3\\lib\\site-packages (from requests->pywhatkit) (1.26.11)\n",
      "Requirement already satisfied: certifi>=2017.4.17 in c:\\users\\julia.scipioni\\anaconda3\\lib\\site-packages (from requests->pywhatkit) (2022.9.14)\n",
      "Requirement already satisfied: idna<4,>=2.5 in c:\\users\\julia.scipioni\\anaconda3\\lib\\site-packages (from requests->pywhatkit) (3.3)\n",
      "Requirement already satisfied: beautifulsoup4 in c:\\users\\julia.scipioni\\anaconda3\\lib\\site-packages (from wikipedia->pywhatkit) (4.11.1)\n",
      "Requirement already satisfied: colorama in c:\\users\\julia.scipioni\\anaconda3\\lib\\site-packages (from click>=5.1->Flask->pywhatkit) (0.4.5)\n",
      "Requirement already satisfied: MarkupSafe>=0.23 in c:\\users\\julia.scipioni\\anaconda3\\lib\\site-packages (from Jinja2>=2.10.1->Flask->pywhatkit) (2.0.1)\n",
      "Requirement already satisfied: pyrect in c:\\users\\julia.scipioni\\anaconda3\\lib\\site-packages (from pygetwindow>=0.0.5->pyautogui->pywhatkit) (0.2.0)\n",
      "Requirement already satisfied: soupsieve>1.2 in c:\\users\\julia.scipioni\\anaconda3\\lib\\site-packages (from beautifulsoup4->wikipedia->pywhatkit) (2.3.1)\n",
      "Requirement already satisfied: pyperclip in c:\\users\\julia.scipioni\\anaconda3\\lib\\site-packages (from mouseinfo->pyautogui->pywhatkit) (1.8.2)\n",
      "Note: you may need to restart the kernel to use updated packages.\n"
     ]
    }
   ],
   "source": [
    "pip install pywhatkit"
   ]
  },
  {
   "cell_type": "markdown",
   "id": "b6b65d9f",
   "metadata": {},
   "source": [
    "## IMPORTO LIBRERIAS"
   ]
  },
  {
   "cell_type": "code",
   "execution_count": 10,
   "id": "b138adef",
   "metadata": {},
   "outputs": [],
   "source": [
    "#import pywhatkit as pw\n",
    "import datetime\n",
    "import pandas as pd\n",
    "import pyautogui as pg\n",
    "import time\n",
    "import webbrowser as web\n",
    "#import  pyautogui"
   ]
  },
  {
   "cell_type": "markdown",
   "id": "870bd7fd",
   "metadata": {},
   "source": [
    "## IMPORTO FILE"
   ]
  },
  {
   "cell_type": "code",
   "execution_count": 11,
   "id": "a3af4567",
   "metadata": {},
   "outputs": [
    {
     "data": {
      "text/plain": [
       "celu    int64\n",
       "ci      int64\n",
       "dtype: object"
      ]
     },
     "execution_count": 11,
     "metadata": {},
     "output_type": "execute_result"
    }
   ],
   "source": [
    "a=pd.read_excel('lista celus.xlsx')\n",
    "a.dtypes"
   ]
  },
  {
   "cell_type": "code",
   "execution_count": 12,
   "id": "59cfdbc5",
   "metadata": {},
   "outputs": [
    {
     "data": {
      "text/html": [
       "<div>\n",
       "<style scoped>\n",
       "    .dataframe tbody tr th:only-of-type {\n",
       "        vertical-align: middle;\n",
       "    }\n",
       "\n",
       "    .dataframe tbody tr th {\n",
       "        vertical-align: top;\n",
       "    }\n",
       "\n",
       "    .dataframe thead th {\n",
       "        text-align: right;\n",
       "    }\n",
       "</style>\n",
       "<table border=\"1\" class=\"dataframe\">\n",
       "  <thead>\n",
       "    <tr style=\"text-align: right;\">\n",
       "      <th></th>\n",
       "      <th>celu</th>\n",
       "      <th>ci</th>\n",
       "    </tr>\n",
       "  </thead>\n",
       "  <tbody>\n",
       "    <tr>\n",
       "      <th>0</th>\n",
       "      <td>5491141429806</td>\n",
       "      <td>37835156</td>\n",
       "    </tr>\n",
       "    <tr>\n",
       "      <th>1</th>\n",
       "      <td>5491158448858</td>\n",
       "      <td>32033538</td>\n",
       "    </tr>\n",
       "    <tr>\n",
       "      <th>2</th>\n",
       "      <td>5491169327900</td>\n",
       "      <td>36789654</td>\n",
       "    </tr>\n",
       "    <tr>\n",
       "      <th>3</th>\n",
       "      <td>5491169327901</td>\n",
       "      <td>1485781</td>\n",
       "    </tr>\n",
       "    <tr>\n",
       "      <th>4</th>\n",
       "      <td>5491140352029</td>\n",
       "      <td>15518381</td>\n",
       "    </tr>\n",
       "    <tr>\n",
       "      <th>5</th>\n",
       "      <td>5491141429806</td>\n",
       "      <td>37835156</td>\n",
       "    </tr>\n",
       "    <tr>\n",
       "      <th>6</th>\n",
       "      <td>5491158448858</td>\n",
       "      <td>32033538</td>\n",
       "    </tr>\n",
       "    <tr>\n",
       "      <th>7</th>\n",
       "      <td>59892037021</td>\n",
       "      <td>37090556</td>\n",
       "    </tr>\n",
       "  </tbody>\n",
       "</table>\n",
       "</div>"
      ],
      "text/plain": [
       "            celu        ci\n",
       "0  5491141429806  37835156\n",
       "1  5491158448858  32033538\n",
       "2  5491169327900  36789654\n",
       "3  5491169327901   1485781\n",
       "4  5491140352029  15518381\n",
       "5  5491141429806  37835156\n",
       "6  5491158448858  32033538\n",
       "7    59892037021  37090556"
      ]
     },
     "execution_count": 12,
     "metadata": {},
     "output_type": "execute_result"
    }
   ],
   "source": [
    "a"
   ]
  },
  {
   "cell_type": "markdown",
   "id": "17816430",
   "metadata": {},
   "source": [
    "## HAGO CORRECCIONES A LOS NUMEROS Y COLUMNAS"
   ]
  },
  {
   "cell_type": "code",
   "execution_count": 13,
   "id": "653f7347",
   "metadata": {},
   "outputs": [
    {
     "data": {
      "text/html": [
       "<div>\n",
       "<style scoped>\n",
       "    .dataframe tbody tr th:only-of-type {\n",
       "        vertical-align: middle;\n",
       "    }\n",
       "\n",
       "    .dataframe tbody tr th {\n",
       "        vertical-align: top;\n",
       "    }\n",
       "\n",
       "    .dataframe thead th {\n",
       "        text-align: right;\n",
       "    }\n",
       "</style>\n",
       "<table border=\"1\" class=\"dataframe\">\n",
       "  <thead>\n",
       "    <tr style=\"text-align: right;\">\n",
       "      <th></th>\n",
       "      <th>celu</th>\n",
       "      <th>ci</th>\n",
       "      <th>celu2</th>\n",
       "    </tr>\n",
       "  </thead>\n",
       "  <tbody>\n",
       "    <tr>\n",
       "      <th>0</th>\n",
       "      <td>5491141429806</td>\n",
       "      <td>37835156</td>\n",
       "      <td>\"+5491141429806\"</td>\n",
       "    </tr>\n",
       "    <tr>\n",
       "      <th>1</th>\n",
       "      <td>5491158448858</td>\n",
       "      <td>32033538</td>\n",
       "      <td>\"+5491158448858\"</td>\n",
       "    </tr>\n",
       "    <tr>\n",
       "      <th>2</th>\n",
       "      <td>5491169327900</td>\n",
       "      <td>36789654</td>\n",
       "      <td>\"+5491169327900\"</td>\n",
       "    </tr>\n",
       "    <tr>\n",
       "      <th>3</th>\n",
       "      <td>5491169327901</td>\n",
       "      <td>1485781</td>\n",
       "      <td>\"+5491169327901\"</td>\n",
       "    </tr>\n",
       "    <tr>\n",
       "      <th>4</th>\n",
       "      <td>5491140352029</td>\n",
       "      <td>15518381</td>\n",
       "      <td>\"+5491140352029\"</td>\n",
       "    </tr>\n",
       "    <tr>\n",
       "      <th>5</th>\n",
       "      <td>5491141429806</td>\n",
       "      <td>37835156</td>\n",
       "      <td>\"+5491141429806\"</td>\n",
       "    </tr>\n",
       "    <tr>\n",
       "      <th>6</th>\n",
       "      <td>5491158448858</td>\n",
       "      <td>32033538</td>\n",
       "      <td>\"+5491158448858\"</td>\n",
       "    </tr>\n",
       "    <tr>\n",
       "      <th>7</th>\n",
       "      <td>59892037021</td>\n",
       "      <td>37090556</td>\n",
       "      <td>\"+59892037021\"</td>\n",
       "    </tr>\n",
       "  </tbody>\n",
       "</table>\n",
       "</div>"
      ],
      "text/plain": [
       "            celu        ci             celu2\n",
       "0  5491141429806  37835156  \"+5491141429806\"\n",
       "1  5491158448858  32033538  \"+5491158448858\"\n",
       "2  5491169327900  36789654  \"+5491169327900\"\n",
       "3  5491169327901   1485781  \"+5491169327901\"\n",
       "4  5491140352029  15518381  \"+5491140352029\"\n",
       "5  5491141429806  37835156  \"+5491141429806\"\n",
       "6  5491158448858  32033538  \"+5491158448858\"\n",
       "7    59892037021  37090556    \"+59892037021\""
      ]
     },
     "execution_count": 13,
     "metadata": {},
     "output_type": "execute_result"
    }
   ],
   "source": [
    "a['celu']=a.celu.astype(str)\n",
    "a['celu2']='\"+'+a.celu+'\"'\n",
    "a"
   ]
  },
  {
   "cell_type": "markdown",
   "id": "629533fe",
   "metadata": {},
   "source": [
    "## ENVIO"
   ]
  },
  {
   "cell_type": "code",
   "execution_count": 16,
   "id": "df9d18e7",
   "metadata": {},
   "outputs": [
    {
     "name": "stdout",
     "output_type": "stream",
     "text": [
      "Soy Julia Scipioni,estoy probando algo,arranque a las 13:10:41, este es el msj0 y son las 13:10:41🙌🙌*EL LINK A LA ENCUESTA ES* _https://clientesplus.typeform.com/to/xx64Suuk#l=[37835156]_\n"
     ]
    },
    {
     "ename": "KeyboardInterrupt",
     "evalue": "",
     "output_type": "error",
     "traceback": [
      "\u001b[1;31m---------------------------------------------------------------------------\u001b[0m",
      "\u001b[1;31mKeyboardInterrupt\u001b[0m                         Traceback (most recent call last)",
      "\u001b[1;32m~\\AppData\\Local\\Temp\\ipykernel_22472\\284320857.py\u001b[0m in \u001b[0;36m<module>\u001b[1;34m\u001b[0m\n\u001b[0;32m     14\u001b[0m     \u001b[0mtime\u001b[0m\u001b[1;33m.\u001b[0m\u001b[0msleep\u001b[0m\u001b[1;33m(\u001b[0m\u001b[1;36m5\u001b[0m\u001b[1;33m)\u001b[0m\u001b[1;33m\u001b[0m\u001b[1;33m\u001b[0m\u001b[0m\n\u001b[0;32m     15\u001b[0m     \u001b[0mpg\u001b[0m\u001b[1;33m.\u001b[0m\u001b[0mpress\u001b[0m\u001b[1;33m(\u001b[0m\u001b[1;34m'enter'\u001b[0m\u001b[1;33m)\u001b[0m\u001b[1;33m\u001b[0m\u001b[1;33m\u001b[0m\u001b[0m\n\u001b[1;32m---> 16\u001b[1;33m     \u001b[0mtime\u001b[0m\u001b[1;33m.\u001b[0m\u001b[0msleep\u001b[0m\u001b[1;33m(\u001b[0m\u001b[1;36m7\u001b[0m\u001b[1;33m)\u001b[0m\u001b[1;33m\u001b[0m\u001b[1;33m\u001b[0m\u001b[0m\n\u001b[0m\u001b[0;32m     17\u001b[0m     \u001b[0mpg\u001b[0m\u001b[1;33m.\u001b[0m\u001b[0mhotkey\u001b[0m\u001b[1;33m(\u001b[0m\u001b[1;34m'ctrl'\u001b[0m\u001b[1;33m,\u001b[0m \u001b[1;34m'w'\u001b[0m\u001b[1;33m)\u001b[0m\u001b[1;33m\u001b[0m\u001b[1;33m\u001b[0m\u001b[0m\n\u001b[0;32m     18\u001b[0m \u001b[1;33m\u001b[0m\u001b[0m\n",
      "\u001b[1;31mKeyboardInterrupt\u001b[0m: "
     ]
    }
   ],
   "source": [
    "### OPCION 1\n",
    "parsedMessage=\"Soy Julia Scipioni, este es el msj\"\n",
    "\n",
    "inicio=datetime.datetime.now().strftime(\"%H:%M:%S\")\n",
    "\n",
    "\n",
    "for cel in range(0,len(a)):\n",
    "    \n",
    "    parsedMessage=\"Soy Julia Scipioni,estoy probando algo,arranque a las \"+str(inicio)+\", este es el msj\"+str(cel)+\" y son las \"+str(datetime.datetime.now().strftime(\"%H:%M:%S\"))+\"🙌🙌*EL LINK A LA ENCUESTA ES* _https://clientesplus.typeform.com/to/xx64Suuk#l=[{}]_\".format(a.ci[cel])\n",
    "    #print(a.celu[cel])\n",
    "    #print(parsedMessage)\n",
    "    web.open('https://web.whatsapp.com/send?phone='+a.celu[cel]+'&text='+parsedMessage)\n",
    "    time.sleep(5)\n",
    "    pg.press('enter')\n",
    "    time.sleep(7)\n",
    "    pg.hotkey('ctrl', 'w')\n",
    "    "
   ]
  },
  {
   "cell_type": "code",
   "execution_count": 3,
   "id": "94507274",
   "metadata": {},
   "outputs": [
    {
     "name": "stdout",
     "output_type": "stream",
     "text": [
      "Message Sent!\n"
     ]
    }
   ],
   "source": [
    "###OPCION 2 \n",
    "\n",
    "import pywhatkit as pwk\n",
    " \n",
    "# using Exception Handling to avoid unexpected errors\n",
    "try:\n",
    "     # sending message in Whatsapp in India so using Indian dial code (+91)\n",
    "     pwk.sendwhatmsg_instantly(\"+5491141429806\", \"Hi, how are you?\", 10, True, 5) \n",
    "    # 10: EN 10 SG, TRUE Y 5 ES PARA QUE SE CIERRE WPP Y TARDE 5 SEG EN CERRARSE -PARA DARLE TIEMPO A ENVIAR EL MSJ-\n",
    " \n",
    "     print(\"Message Sent!\") #Prints success message in console\n",
    " \n",
    "     # error message\n",
    "except: \n",
    "     print(\"Error in sending the message\")"
   ]
  },
  {
   "cell_type": "markdown",
   "id": "6cd2c908",
   "metadata": {},
   "source": [
    "## ENVIO IMAGENES"
   ]
  },
  {
   "cell_type": "code",
   "execution_count": 7,
   "id": "f591e230",
   "metadata": {},
   "outputs": [],
   "source": [
    "### PARA ENVIAR IMAGENES 🙌\n",
    "import pywhatkit \n",
    "pywhatkit.sendwhats_image( \"+5491141429806\",\"tata.png\", \"Hello\",True,10)"
   ]
  },
  {
   "cell_type": "code",
   "execution_count": null,
   "id": "b592f906",
   "metadata": {},
   "outputs": [],
   "source": []
  },
  {
   "cell_type": "code",
   "execution_count": null,
   "id": "9390ee04",
   "metadata": {},
   "outputs": [],
   "source": []
  },
  {
   "cell_type": "code",
   "execution_count": null,
   "id": "327fdcfb",
   "metadata": {},
   "outputs": [],
   "source": [
    "# import time,webbrowser, pyautogui\n",
    "# open_close(url=\"https://www.python.org/\")\n",
    "# webbrowser.open(url)\n",
    "# time.sleep(5)\n",
    "# pyautogui.hotkey('ctrl', 'w')\n",
    "# print(\"tab closed\")"
   ]
  },
  {
   "cell_type": "code",
   "execution_count": null,
   "id": "9b230f54",
   "metadata": {},
   "outputs": [],
   "source": [
    "# import snowflake.connector\n",
    "# import json\n",
    "# from functions import arreglo_caracteristicas\n",
    "# import datetime\n",
    "\n",
    "# f = open('claves_correo_snow.json')\n",
    "# data_pass = json.load(f)\n",
    "\n",
    "# pass_ = input(\"ingresar passcode:\")\n",
    "\n",
    "# ctx = snowflake.connector.connect(\n",
    "#     user= data_pass['snow'][0]['user'],\n",
    "#     password= data_pass['snow'][0]['pass'],\n",
    "#     account='dp32414.us-east-1',\n",
    "#     passcode=pass_,\n",
    "#     database='sandbox_plus',\n",
    "#     schema='dwh'\n",
    "# )\n",
    "\n",
    "# fecha_final = '2023-03-01'\n",
    "# fecha_inicio =  '2023-02-01'\n",
    "\n",
    "\n",
    "# cursor = ctx.cursor()\n",
    "# fd = open('Queries/evaluacion.sql', 'r')\n",
    "# sqlFile = fd.read()\n",
    "# fd.close()\n",
    "# cursor.execute(sqlFile.format(fecha_inicio=fecha_inicio,fecha_final=fecha_final))\n",
    "# df = cursor.fetch_pandas_all()\n",
    "# df = arreglo_caracteristicas(df)\n",
    "# df.to_csv(f'APP_{fecha_final}.csv',index=False)"
   ]
  }
 ],
 "metadata": {
  "kernelspec": {
   "display_name": "Python 3 (ipykernel)",
   "language": "python",
   "name": "python3"
  },
  "language_info": {
   "codemirror_mode": {
    "name": "ipython",
    "version": 3
   },
   "file_extension": ".py",
   "mimetype": "text/x-python",
   "name": "python",
   "nbconvert_exporter": "python",
   "pygments_lexer": "ipython3",
   "version": "3.9.13"
  }
 },
 "nbformat": 4,
 "nbformat_minor": 5
}
