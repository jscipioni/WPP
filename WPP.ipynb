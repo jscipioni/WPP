{
 "cells": [
  {
   "cell_type": "code",
   "execution_count": 1,
   "id": "d5dfb1ce",
   "metadata": {},
   "outputs": [
    {
     "name": "stdout",
     "output_type": "stream",
     "text": [
      "Collecting selenium==3.141.0\n",
      "  Downloading selenium-3.141.0-py2.py3-none-any.whl (904 kB)\n",
      "     -------------------------------------- 904.6/904.6 kB 8.1 MB/s eta 0:00:00\n",
      "Requirement already satisfied: urllib3 in c:\\users\\julia.scipioni\\anaconda3\\lib\\site-packages (from selenium==3.141.0) (1.26.11)\n",
      "Installing collected packages: selenium\n",
      "Successfully installed selenium-3.141.0\n",
      "Note: you may need to restart the kernel to use updated packages.\n"
     ]
    }
   ],
   "source": [
    "pip install selenium==3.141.0"
   ]
  },
  {
   "cell_type": "code",
   "execution_count": 2,
   "id": "4c180264",
   "metadata": {},
   "outputs": [
    {
     "name": "stdout",
     "output_type": "stream",
     "text": [
      "Collecting webdriver-manager==3.4.2\n",
      "  Downloading webdriver_manager-3.4.2-py2.py3-none-any.whl (16 kB)\n",
      "Requirement already satisfied: requests in c:\\users\\julia.scipioni\\anaconda3\\lib\\site-packages (from webdriver-manager==3.4.2) (2.28.1)\n",
      "Collecting configparser\n",
      "  Downloading configparser-5.3.0-py3-none-any.whl (19 kB)\n",
      "Collecting crayons\n",
      "  Downloading crayons-0.4.0-py2.py3-none-any.whl (4.6 kB)\n",
      "Requirement already satisfied: colorama in c:\\users\\julia.scipioni\\anaconda3\\lib\\site-packages (from crayons->webdriver-manager==3.4.2) (0.4.5)\n",
      "Requirement already satisfied: idna<4,>=2.5 in c:\\users\\julia.scipioni\\anaconda3\\lib\\site-packages (from requests->webdriver-manager==3.4.2) (3.3)\n",
      "Requirement already satisfied: urllib3<1.27,>=1.21.1 in c:\\users\\julia.scipioni\\anaconda3\\lib\\site-packages (from requests->webdriver-manager==3.4.2) (1.26.11)\n",
      "Requirement already satisfied: charset-normalizer<3,>=2 in c:\\users\\julia.scipioni\\anaconda3\\lib\\site-packages (from requests->webdriver-manager==3.4.2) (2.0.4)\n",
      "Requirement already satisfied: certifi>=2017.4.17 in c:\\users\\julia.scipioni\\anaconda3\\lib\\site-packages (from requests->webdriver-manager==3.4.2) (2022.9.14)\n",
      "Installing collected packages: crayons, configparser, webdriver-manager\n",
      "Successfully installed configparser-5.3.0 crayons-0.4.0 webdriver-manager-3.4.2\n",
      "Note: you may need to restart the kernel to use updated packages.\n"
     ]
    }
   ],
   "source": [
    "pip install webdriver-manager==3.4.2"
   ]
  },
  {
   "cell_type": "code",
   "execution_count": 1,
   "id": "a5a0e072",
   "metadata": {},
   "outputs": [],
   "source": [
    "from selenium import webdriver\n",
    "from selenium.webdriver.chrome.options import Options\n",
    "from selenium.webdriver.support.ui import WebDriverWait\n",
    "from selenium.webdriver.support import expected_conditions as EC\n",
    "from selenium.webdriver.common.by import By\n",
    "from webdriver_manager.chrome import ChromeDriverManager\n",
    "from time import sleep\n",
    "from urllib.parse import quote\n",
    "import os"
   ]
  },
  {
   "cell_type": "code",
   "execution_count": 2,
   "id": "86a4e201",
   "metadata": {},
   "outputs": [],
   "source": [
    "options = Options()\n",
    "options.add_experimental_option(\"excludeSwitches\", [\"enable-logging\"])\n",
    "options.add_argument(\"--profile-directory=Default\")\n",
    "options.add_argument(\"--user-data-dir=/var/tmp/chrome_user_data\")"
   ]
  },
  {
   "cell_type": "code",
   "execution_count": 2,
   "id": "336a3477",
   "metadata": {},
   "outputs": [],
   "source": [
    "#os.system(\"\")\n",
    "#os.environ[\"WDM_LOG_LEVEL\"] = \"0\"\n",
    "class style():\n",
    "    BLACK = '\\033[30m'\n",
    "    RED = '\\033[31m'\n",
    "    GREEN = '\\033[32m'\n",
    "    YELLOW = '\\033[33m'\n",
    "    BLUE = '\\033[34m'\n",
    "    MAGENTA = '\\033[35m'\n",
    "    CYAN = '\\033[36m'\n",
    "    WHITE = '\\033[37m'\n",
    "    UNDERLINE = '\\033[4m'\n",
    "    RESET = '\\033[0m'"
   ]
  },
  {
   "cell_type": "code",
   "execution_count": 4,
   "id": "4ed99ba7",
   "metadata": {},
   "outputs": [
    {
     "name": "stdout",
     "output_type": "stream",
     "text": [
      "\u001b[34m\n",
      "**********************************************************\n",
      "**********************************************************\n",
      "*****                                               ******\n",
      "*****  THANK YOU FOR USING WHATSAPP BULK MESSENGER  ******\n",
      "*****      This tool was built by Anirudh Bagri     ******\n",
      "*****           www.github.com/anirudhbagri         ******\n",
      "*****                                               ******\n",
      "**********************************************************\n",
      "**********************************************************\n",
      "\u001b[0m\n"
     ]
    }
   ],
   "source": [
    "print(style.BLUE)\n",
    "print(\"**********************************************************\")\n",
    "print(\"**********************************************************\")\n",
    "print(\"*****                                               ******\")\n",
    "print(\"*****  THANK YOU FOR USING WHATSAPP BULK MESSENGER  ******\")\n",
    "print(\"*****      This tool was built by Anirudh Bagri     ******\")\n",
    "print(\"*****           www.github.com/anirudhbagri         ******\")\n",
    "print(\"*****                                               ******\")\n",
    "print(\"**********************************************************\")\n",
    "print(\"**********************************************************\")\n",
    "print(style.RESET)"
   ]
  },
  {
   "cell_type": "code",
   "execution_count": 6,
   "id": "bca92cd4",
   "metadata": {},
   "outputs": [
    {
     "data": {
      "text/plain": [
       "b'C:\\\\Users\\\\julia.scipioni\\\\Documents\\\\Jupyter\\\\WPP'"
      ]
     },
     "execution_count": 6,
     "metadata": {},
     "output_type": "execute_result"
    }
   ],
   "source": [
    "os.getcwdb()"
   ]
  },
  {
   "cell_type": "code",
   "execution_count": 9,
   "id": "20361fb1",
   "metadata": {},
   "outputs": [
    {
     "data": {
      "text/plain": [
       "['.ipynb_checkpoints', 'message.txt', 'numbers.txt', 'WPP.ipynb']"
      ]
     },
     "execution_count": 9,
     "metadata": {},
     "output_type": "execute_result"
    }
   ],
   "source": [
    "os.listdir()"
   ]
  },
  {
   "cell_type": "code",
   "execution_count": 8,
   "id": "8a4d5085",
   "metadata": {},
   "outputs": [
    {
     "name": "stdout",
     "output_type": "stream",
     "text": [
      "\u001b[33m\n",
      "This is your message-\n",
      "\u001b[32mHola, Gracias por tu compra en TaTa, nos servirÃ­a mucho tu opiniÃ³n, XXXXXX , gracias!\n",
      "\n",
      "\u001b[0m\n"
     ]
    }
   ],
   "source": [
    "f = open(\"message.txt\", \"r\")\n",
    "message = f.read()\n",
    "f.close()\n",
    "\n",
    "print(style.YELLOW + '\\nThis is your message-')\n",
    "print(style.GREEN + message)\n",
    "print(\"\\n\" + style.RESET)\n",
    "message = quote(message)"
   ]
  },
  {
   "cell_type": "code",
   "execution_count": 10,
   "id": "9cf4ce3a",
   "metadata": {},
   "outputs": [
    {
     "name": "stdout",
     "output_type": "stream",
     "text": [
      "\u001b[31mWe found 8 numbers in the file\u001b[0m\n"
     ]
    }
   ],
   "source": [
    "numbers = []\n",
    "f = open(\"numbers.txt\", \"r\")\n",
    "for line in f.read().splitlines():\n",
    "    if line.strip() != \"\":\n",
    "        numbers.append(line.strip())\n",
    "f.close()\n",
    "total_number=len(numbers)\n",
    "print(style.RED + 'We found ' + str(total_number) + ' numbers in the file' + style.RESET)\n",
    "delay = 30"
   ]
  },
  {
   "cell_type": "code",
   "execution_count": 11,
   "id": "e799820a",
   "metadata": {},
   "outputs": [
    {
     "name": "stdout",
     "output_type": "stream",
     "text": [
      "Once your browser opens up sign in to web whatsapp\n",
      "AFTER logging into Whatsapp Web is complete and your chats are visible, press ENTER...\n",
      "\u001b[33m1/8 => Sending message to +5491141429806.\u001b[0m\n"
     ]
    },
    {
     "ename": "KeyboardInterrupt",
     "evalue": "",
     "output_type": "error",
     "traceback": [
      "\u001b[1;31m---------------------------------------------------------------------------\u001b[0m",
      "\u001b[1;31mKeyboardInterrupt\u001b[0m                         Traceback (most recent call last)",
      "\u001b[1;32m~\\AppData\\Local\\Temp\\ipykernel_24744\\2336580011.py\u001b[0m in \u001b[0;36m<module>\u001b[1;34m\u001b[0m\n\u001b[0;32m     15\u001b[0m                 \u001b[0mdriver\u001b[0m\u001b[1;33m.\u001b[0m\u001b[0mget\u001b[0m\u001b[1;33m(\u001b[0m\u001b[0murl\u001b[0m\u001b[1;33m)\u001b[0m\u001b[1;33m\u001b[0m\u001b[1;33m\u001b[0m\u001b[0m\n\u001b[0;32m     16\u001b[0m                 \u001b[1;32mtry\u001b[0m\u001b[1;33m:\u001b[0m\u001b[1;33m\u001b[0m\u001b[1;33m\u001b[0m\u001b[0m\n\u001b[1;32m---> 17\u001b[1;33m                     \u001b[0mclick_btn\u001b[0m \u001b[1;33m=\u001b[0m \u001b[0mWebDriverWait\u001b[0m\u001b[1;33m(\u001b[0m\u001b[0mdriver\u001b[0m\u001b[1;33m,\u001b[0m \u001b[0mdelay\u001b[0m\u001b[1;33m)\u001b[0m\u001b[1;33m.\u001b[0m\u001b[0muntil\u001b[0m\u001b[1;33m(\u001b[0m\u001b[0mEC\u001b[0m\u001b[1;33m.\u001b[0m\u001b[0melement_to_be_clickable\u001b[0m\u001b[1;33m(\u001b[0m\u001b[1;33m(\u001b[0m\u001b[0mBy\u001b[0m\u001b[1;33m.\u001b[0m\u001b[0mXPATH\u001b[0m\u001b[1;33m,\u001b[0m \u001b[1;34m\"//button[@data-testid='compose-btn-send']\"\u001b[0m\u001b[1;33m)\u001b[0m\u001b[1;33m)\u001b[0m\u001b[1;33m)\u001b[0m\u001b[1;33m\u001b[0m\u001b[1;33m\u001b[0m\u001b[0m\n\u001b[0m\u001b[0;32m     18\u001b[0m                 \u001b[1;32mexcept\u001b[0m \u001b[0mException\u001b[0m \u001b[1;32mas\u001b[0m \u001b[0me\u001b[0m\u001b[1;33m:\u001b[0m\u001b[1;33m\u001b[0m\u001b[1;33m\u001b[0m\u001b[0m\n\u001b[0;32m     19\u001b[0m                     \u001b[0mprint\u001b[0m\u001b[1;33m(\u001b[0m\u001b[0mstyle\u001b[0m\u001b[1;33m.\u001b[0m\u001b[0mRED\u001b[0m \u001b[1;33m+\u001b[0m \u001b[1;34mf\"\\nFailed to send message to: {number}, retry ({i+1}/3)\"\u001b[0m\u001b[1;33m)\u001b[0m\u001b[1;33m\u001b[0m\u001b[1;33m\u001b[0m\u001b[0m\n",
      "\u001b[1;32m~\\Anaconda3\\lib\\site-packages\\selenium\\webdriver\\support\\wait.py\u001b[0m in \u001b[0;36muntil\u001b[1;34m(self, method, message)\u001b[0m\n\u001b[0;32m     75\u001b[0m                 \u001b[0mscreen\u001b[0m \u001b[1;33m=\u001b[0m \u001b[0mgetattr\u001b[0m\u001b[1;33m(\u001b[0m\u001b[0mexc\u001b[0m\u001b[1;33m,\u001b[0m \u001b[1;34m'screen'\u001b[0m\u001b[1;33m,\u001b[0m \u001b[1;32mNone\u001b[0m\u001b[1;33m)\u001b[0m\u001b[1;33m\u001b[0m\u001b[1;33m\u001b[0m\u001b[0m\n\u001b[0;32m     76\u001b[0m                 \u001b[0mstacktrace\u001b[0m \u001b[1;33m=\u001b[0m \u001b[0mgetattr\u001b[0m\u001b[1;33m(\u001b[0m\u001b[0mexc\u001b[0m\u001b[1;33m,\u001b[0m \u001b[1;34m'stacktrace'\u001b[0m\u001b[1;33m,\u001b[0m \u001b[1;32mNone\u001b[0m\u001b[1;33m)\u001b[0m\u001b[1;33m\u001b[0m\u001b[1;33m\u001b[0m\u001b[0m\n\u001b[1;32m---> 77\u001b[1;33m             \u001b[0mtime\u001b[0m\u001b[1;33m.\u001b[0m\u001b[0msleep\u001b[0m\u001b[1;33m(\u001b[0m\u001b[0mself\u001b[0m\u001b[1;33m.\u001b[0m\u001b[0m_poll\u001b[0m\u001b[1;33m)\u001b[0m\u001b[1;33m\u001b[0m\u001b[1;33m\u001b[0m\u001b[0m\n\u001b[0m\u001b[0;32m     78\u001b[0m             \u001b[1;32mif\u001b[0m \u001b[0mtime\u001b[0m\u001b[1;33m.\u001b[0m\u001b[0mtime\u001b[0m\u001b[1;33m(\u001b[0m\u001b[1;33m)\u001b[0m \u001b[1;33m>\u001b[0m \u001b[0mend_time\u001b[0m\u001b[1;33m:\u001b[0m\u001b[1;33m\u001b[0m\u001b[1;33m\u001b[0m\u001b[0m\n\u001b[0;32m     79\u001b[0m                 \u001b[1;32mbreak\u001b[0m\u001b[1;33m\u001b[0m\u001b[1;33m\u001b[0m\u001b[0m\n",
      "\u001b[1;31mKeyboardInterrupt\u001b[0m: "
     ]
    }
   ],
   "source": [
    "driver = webdriver.Chrome(ChromeDriverManager().install(), options=options)\n",
    "print('Once your browser opens up sign in to web whatsapp')\n",
    "driver.get('https://web.whatsapp.com')\n",
    "input(style.MAGENTA + \"AFTER logging into Whatsapp Web is complete and your chats are visible, press ENTER...\" + style.RESET)\n",
    "for idx, number in enumerate(numbers):\n",
    "    number = number.strip()\n",
    "    if number == \"\":\n",
    "        continue\n",
    "    print(style.YELLOW + '{}/{} => Sending message to {}.'.format((idx+1), total_number, number) + style.RESET)\n",
    "    try:\n",
    "        url = 'https://web.whatsapp.com/send?phone=' + number + '&text=' + message\n",
    "        sent = False\n",
    "        for i in range(3):\n",
    "            if not sent:\n",
    "                driver.get(url)\n",
    "                try:\n",
    "                    click_btn = WebDriverWait(driver, delay).until(EC.element_to_be_clickable((By.XPATH, \"//button[@data-testid='compose-btn-send']\")))\n",
    "                except Exception as e:\n",
    "                    print(style.RED + f\"\\nFailed to send message to: {number}, retry ({i+1}/3)\")\n",
    "                    print(\"Make sure your phone and computer is connected to the internet.\")\n",
    "                    print(\"If there is an alert, please dismiss it.\" + style.RESET)\n",
    "            else:\n",
    "                sleep(1)\n",
    "                click_btn.click()\n",
    "                sent=True\n",
    "                sleep(3)\n",
    "                print(style.GREEN + 'Message sent to: ' + number + style.RESET)\n",
    "    except Exception as e:\n",
    "        print(style.RED + 'Failed to send message to ' + number + str(e) + style.RESET)\n",
    "driver.close()"
   ]
  },
  {
   "cell_type": "code",
   "execution_count": null,
   "id": "e010d3ef",
   "metadata": {},
   "outputs": [],
   "source": []
  }
 ],
 "metadata": {
  "kernelspec": {
   "display_name": "Python 3 (ipykernel)",
   "language": "python",
   "name": "python3"
  },
  "language_info": {
   "codemirror_mode": {
    "name": "ipython",
    "version": 3
   },
   "file_extension": ".py",
   "mimetype": "text/x-python",
   "name": "python",
   "nbconvert_exporter": "python",
   "pygments_lexer": "ipython3",
   "version": "3.9.13"
  }
 },
 "nbformat": 4,
 "nbformat_minor": 5
}
